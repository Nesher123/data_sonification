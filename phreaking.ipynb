{
 "cells": [
  {
   "cell_type": "markdown",
   "id": "496c04c9",
   "metadata": {},
   "source": [
    "# Phreaking\n",
    "\n",
    "The activity of a culture of people who study, experiment with, or explore telecommunication systems, such as equipment and systems connected to public telephone networks.\n",
    "\n",
    "The term first referred to groups who had reverse engineered the system of tones used to route long-distance calls. By re-creating the signaling tones, phreaks could switch calls from the phone handset while avoiding long-distance calling charges which were common then. These fees could be significant, depending on the time, duration and destination of the call. To ease the creation of the routing tones, electronic tone generators known as blue boxes became a staple of the phreaker community. This community included future Apple Inc. co-founders Steve Jobs and Steve Wozniak.\n"
   ]
  },
  {
   "cell_type": "code",
   "execution_count": null,
   "id": "02c04a60",
   "metadata": {},
   "outputs": [],
   "source": []
  },
  {
   "cell_type": "markdown",
   "id": "585b75b1",
   "metadata": {},
   "source": [
    "### References:\n",
    "* [Blue Box](https://en.wikipedia.org/wiki/Blue_box)\n",
    "* [Badir 1](https://www.israelstory.org/he/episode/%D7%94%D7%90%D7%97%D7%99%D7%9D-%D7%91%D7%93%D7%99%D7%A8/)\n",
    "* [Badir 2](https://www.youtube.com/watch?v=CXerPpbqPE8&t=23s&ab_channel=arraba2020)\n",
    "* [Badir 3]()\n"
   ]
  }
 ],
 "metadata": {
  "kernelspec": {
   "display_name": ".venv",
   "language": "python",
   "name": "python3"
  },
  "language_info": {
   "name": "python",
   "version": "3.11.5"
  }
 },
 "nbformat": 4,
 "nbformat_minor": 5
}
