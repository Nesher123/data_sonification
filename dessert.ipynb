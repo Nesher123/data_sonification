{
 "cells": [
  {
   "cell_type": "markdown",
   "id": "da52c53d",
   "metadata": {},
   "source": [
    "# How Does an Outlier Sound Like?"
   ]
  },
  {
   "cell_type": "code",
   "execution_count": 3,
   "id": "101e3773",
   "metadata": {},
   "outputs": [],
   "source": [
    "# Sonifying Outliers Data\n",
    "# Reading outliers.csv and sonifying timestamp vs is_outlier\n",
    "\n",
    "import pandas as pd\n",
    "import numpy as np\n",
    "from astronify.series import SoniSeries\n",
    "from astropy.table import Table\n",
    "import matplotlib.pyplot as plt\n",
    "from datetime import datetime"
   ]
  },
  {
   "cell_type": "code",
   "execution_count": 4,
   "id": "4eb8459d",
   "metadata": {},
   "outputs": [
    {
     "name": "stdout",
     "output_type": "stream",
     "text": [
      "Dataset shape: (37, 17)\n",
      "\n",
      "Column names:\n",
      "['fixture_id', 'market_id', 'bet_name', 'bet_line', 'provider_id', 'is_old_outlier', 'last_update_time', 'outlier_last_update_time', 'raw_odd', 'power_clean_odd', 'bet_status_id', 'sport_id', 'league_id', 'provider_name', 'fixture_name', 'message_guid', 'kafka_insertion_timestamp']\n",
      "\n",
      "First few rows:\n",
      "   fixture_id  market_id  bet_name  bet_line  provider_id  is_old_outlier  \\\n",
      "0    14407042          1         2       NaN            4           False   \n",
      "1    14407042          1         2       NaN            4           False   \n",
      "2    14407042          1         2       NaN            4           False   \n",
      "3    14407042          1         2       NaN            4           False   \n",
      "4    14407042          1         2       NaN            4           False   \n",
      "\n",
      "           last_update_time  outlier_last_update_time  raw_odd  \\\n",
      "0  2024-12-26T17:33:03.481Z  2024-12-26T17:33:03.481Z    1.819   \n",
      "1  2024-12-26T17:33:03.553Z  2024-12-26T17:33:03.481Z    1.819   \n",
      "2  2024-12-26T17:33:08.035Z  2024-12-26T17:33:03.481Z    1.819   \n",
      "3  2024-12-26T17:33:08.303Z  2024-12-26T17:33:03.481Z    1.819   \n",
      "4  2024-12-26T17:38:09.929Z  2024-12-26T17:33:03.481Z    1.862   \n",
      "\n",
      "   power_clean_odd  bet_status_id  sport_id  league_id provider_name  \\\n",
      "0         1.869598              1      6046         67      Pinnacle   \n",
      "1         1.869598              1      6046         67      Pinnacle   \n",
      "2         1.869598              1      6046         67      Pinnacle   \n",
      "3         1.869598              1      6046         67      Pinnacle   \n",
      "4         1.912731              1      6046         67      Pinnacle   \n",
      "\n",
      "                                   fixture_name  \\\n",
      "0  Wolverhampton Wanderers VS Manchester United   \n",
      "1  Wolverhampton Wanderers VS Manchester United   \n",
      "2  Wolverhampton Wanderers VS Manchester United   \n",
      "3  Wolverhampton Wanderers VS Manchester United   \n",
      "4  Wolverhampton Wanderers VS Manchester United   \n",
      "\n",
      "                           message_guid kafka_insertion_timestamp  \n",
      "0  50535d67-7ac1-405f-acb7-91d2dd9f4b82  2024-12-26T17:33:03.553Z  \n",
      "1  0d4b17b7-fb5d-43fd-a789-cb6f253f5fef  2024-12-26T17:33:03.624Z  \n",
      "2  69ece15f-4559-41c8-bfda-1f0e1b5ca738  2024-12-26T17:33:08.119Z  \n",
      "3  ca46f8de-fa27-4e15-9ba8-58beeeb6bc66  2024-12-26T17:33:08.372Z  \n",
      "4  1d7a9f83-8a85-4008-b00a-3c89985fa132  2024-12-26T17:38:10.006Z  \n"
     ]
    }
   ],
   "source": [
    "# Read the outliers CSV file\n",
    "df = pd.read_csv('outliers.csv')\n",
    "\n",
    "# Display basic info about the data\n",
    "print(\"Dataset shape:\", df.shape)\n",
    "print(\"\\nColumn names:\")\n",
    "print(df.columns.tolist())\n",
    "print(\"\\nFirst few rows:\")\n",
    "print(df.head())\n"
   ]
  },
  {
   "cell_type": "code",
   "execution_count": 5,
   "id": "79128d4d",
   "metadata": {},
   "outputs": [
    {
     "name": "stdout",
     "output_type": "stream",
     "text": [
      "Outlier status distribution:\n",
      "is_old_outlier\n",
      "False    33\n",
      "True      4\n",
      "Name: count, dtype: int64\n",
      "\n",
      "Unique values in is_old_outlier: [False  True]\n"
     ]
    }
   ],
   "source": [
    "# Examine outlier status distribution\n",
    "print(\"Outlier status distribution:\")\n",
    "print(df['is_old_outlier'].value_counts())\n",
    "print(\"\\nUnique values in is_old_outlier:\", df['is_old_outlier'].unique())"
   ]
  },
  {
   "cell_type": "code",
   "execution_count": 6,
   "id": "72e90b54",
   "metadata": {},
   "outputs": [
    {
     "name": "stdout",
     "output_type": "stream",
     "text": [
      "Prepared data:\n",
      "Time range: 0.0 to 5436.6 seconds\n",
      "Duration: 90.6 minutes\n",
      "Outlier values: [0 1]\n",
      "Number of outliers: 4\n",
      "\n",
      "First few rows of prepared data:\n",
      "   time_seconds  outlier_numeric                        timestamp\n",
      "0         0.000                0 2024-12-26 17:33:03.553000+00:00\n",
      "1         0.071                0 2024-12-26 17:33:03.624000+00:00\n",
      "2         4.566                0 2024-12-26 17:33:08.119000+00:00\n",
      "3         4.819                0 2024-12-26 17:33:08.372000+00:00\n",
      "4       306.453                0 2024-12-26 17:38:10.006000+00:00\n"
     ]
    }
   ],
   "source": [
    "# Prepare data for sonification\n",
    "# Convert timestamp to datetime and then to numerical values (seconds since first timestamp)\n",
    "df['timestamp'] = pd.to_datetime(df['kafka_insertion_timestamp'])\n",
    "df = df.sort_values('timestamp')\n",
    "\n",
    "# Create time values relative to the first timestamp (in seconds)\n",
    "start_time = df['timestamp'].iloc[0]\n",
    "df['time_seconds'] = (df['timestamp'] - start_time).dt.total_seconds()\n",
    "\n",
    "# Convert boolean outlier status to numeric (0 for False, 1 for True)\n",
    "df['outlier_numeric'] = df['is_old_outlier'].astype(int)\n",
    "\n",
    "# Display the prepared data\n",
    "print(\"Prepared data:\")\n",
    "print(\n",
    "    f\"Time range: {df['time_seconds'].min():.1f} to {df['time_seconds'].max():.1f} seconds\")\n",
    "print(f\"Duration: {df['time_seconds'].max()/60:.1f} minutes\")\n",
    "print(f\"Outlier values: {df['outlier_numeric'].unique()}\")\n",
    "print(f\"Number of outliers: {df['outlier_numeric'].sum()}\")\n",
    "\n",
    "# Show first few rows of prepared data\n",
    "print(\"\\nFirst few rows of prepared data:\")\n",
    "print(df[['time_seconds', 'outlier_numeric', 'timestamp']].head())"
   ]
  },
  {
   "cell_type": "code",
   "execution_count": 7,
   "id": "c0b0dc2c",
   "metadata": {},
   "outputs": [
    {
     "data": {
      "image/png": "[encoded data removed]",
      "text/plain": [
       "<Figure size 1200x600 with 1 Axes>"
      ]
     },
     "metadata": {},
     "output_type": "display_data"
    },
    {
     "name": "stdout",
     "output_type": "stream",
     "text": [
      "Total data points: 37\n",
      "Outlier points: 4\n",
      "Normal points: 33\n"
     ]
    }
   ],
   "source": [
    "# Visualize the data before sonification\n",
    "plt.figure(figsize=(12, 6))\n",
    "plt.plot(df['time_seconds'], df['outlier_numeric'],\n",
    "         'bo-', markersize=4, linewidth=1)\n",
    "plt.xlabel('Time (seconds from start)')\n",
    "plt.ylabel('Outlier Status (0=Normal, 1=Outlier)')\n",
    "plt.title('Outlier Detection Over Time')\n",
    "plt.grid(True, alpha=0.3)\n",
    "plt.ylim(-0.1, 1.1)\n",
    "plt.show()\n",
    "\n",
    "print(f\"Total data points: {len(df)}\")\n",
    "print(f\"Outlier points: {df['outlier_numeric'].sum()}\")\n",
    "print(f\"Normal points: {len(df) - df['outlier_numeric'].sum()}\")"
   ]
  },
  {
   "cell_type": "code",
   "execution_count": 15,
   "id": "6136b097",
   "metadata": {},
   "outputs": [
    {
     "name": "stdout",
     "output_type": "stream",
     "text": [
      "Pitch mapping configuration:\n",
      "{'pitch_range': [200, 2000], 'center_pitch': 600, 'zero_point': 'median', 'stretch': 'linear'}\n"
     ]
    }
   ],
   "source": [
    "outlier_table = Table()\n",
    "outlier_table['time'] = df['time_seconds'].values\n",
    "outlier_table['flux'] = df['outlier_numeric'].values\n",
    "\n",
    "# Create SoniSeries object and configure sonification parameters\n",
    "outlier_soni = SoniSeries(outlier_table)\n",
    "\n",
    "# Configure pitch mapping for better audible distinction\n",
    "# Lower pitch for normal data (0), higher pitch for outliers (1)\n",
    "outlier_soni.pitch_mapper.pitch_map_args[\"pitch_range\"] = [\n",
    "    200, 2000]  # Wider range for clear distinction\n",
    "# Center frequency\n",
    "outlier_soni.pitch_mapper.pitch_map_args[\"center_pitch\"] = 600\n",
    "# Use median as reference\n",
    "outlier_soni.pitch_mapper.pitch_map_args[\"zero_point\"] = \"median\"\n",
    "\n",
    "print(\"Pitch mapping configuration:\")\n",
    "print(outlier_soni.pitch_mapper.pitch_map_args)"
   ]
  },
  {
   "cell_type": "code",
   "execution_count": 16,
   "id": "bde564d2",
   "metadata": {},
   "outputs": [
    {
     "name": "stdout",
     "output_type": "stream",
     "text": [
      "Sonifying outlier data...\n",
      "Sonification completed!\n"
     ]
    }
   ],
   "source": [
    "# Sonify the outlier data\n",
    "print(\"Sonifying outlier data...\")\n",
    "outlier_soni.sonify()\n",
    "print(\"Sonification completed!\")"
   ]
  },
  {
   "cell_type": "code",
   "execution_count": 17,
   "id": "3f61dfda",
   "metadata": {},
   "outputs": [
    {
     "name": "stdout",
     "output_type": "stream",
     "text": [
      "Playing sonified outlier data...\n",
      "Listen for:\n",
      "- Lower pitch tones = Normal data (is_outlier = False)\n",
      "- Higher pitch tones = Outliers (is_outlier = True)\n",
      "\n",
      "Pyo warning: Portaudio input device `MacBook Pro Microphone` has fewer channels (1) than requested (2).\n",
      "Pyo warning: Portmidi warning: no midi device found!\n",
      "Portmidi closed.\n"
     ]
    }
   ],
   "source": [
    "# Play the sonified outlier data\n",
    "print(\"Playing sonified outlier data...\")\n",
    "print(\"Listen for:\")\n",
    "print(\"- Lower pitch tones = Normal data (is_outlier = False)\")\n",
    "print(\"- Higher pitch tones = Outliers (is_outlier = True)\")\n",
    "print()\n",
    "outlier_soni.play()"
   ]
  },
  {
   "cell_type": "code",
   "execution_count": 11,
   "id": "fcff8134",
   "metadata": {},
   "outputs": [
    {
     "name": "stdout",
     "output_type": "stream",
     "text": [
      "To stop playback: outlier_soni.stop()\n",
      "To save audio: outlier_soni.write('outliers_sonification.wav')\n"
     ]
    }
   ],
   "source": [
    "# Stop playback if needed\n",
    "# outlier_soni.stop()\n",
    "\n",
    "# Optional: Save the sonification to a file\n",
    "# outlier_soni.write(\"outliers_sonification.wav\")\n",
    "print(\"To stop playback: outlier_soni.stop()\")\n",
    "print(\"To save audio: outlier_soni.write('outliers_sonification.wav')\")"
   ]
  },
  {
   "cell_type": "code",
   "execution_count": null,
   "id": "a1faebbf",
   "metadata": {},
   "outputs": [],
   "source": [
    "# Create an Astropy table for sonification (as required by SoniSeries)\n",
    "# SoniSeries expects a table with 'time' and 'flux' columns\n",
    "outlier_table = Table()\n",
    "outlier_table['time'] = df['time_seconds'].values\n",
    "outlier_table['flux'] = df['outlier_numeric'].values\n",
    "\n",
    "print(\"Created table for sonification:\")\n",
    "print(f\"Time column: {len(outlier_table['time'])} values\")\n",
    "print(f\"Flux column: {len(outlier_table['flux'])} values\")\n",
    "print(\n",
    "    f\"Time range: {outlier_table['time'].min():.1f} to {outlier_table['time'].max():.1f}\")\n",
    "print(\n",
    "    f\"Flux range: {outlier_table['flux'].min()} to {outlier_table['flux'].max()}\")"
   ]
  },
  {
   "cell_type": "code",
   "execution_count": null,
   "id": "cea212e5",
   "metadata": {},
   "outputs": [],
   "source": []
  }
 ],
 "metadata": {
  "kernelspec": {
   "display_name": ".venv",
   "language": "python",
   "name": "python3"
  },
  "language_info": {
   "codemirror_mode": {
    "name": "ipython",
    "version": 3
   },
   "file_extension": ".py",
   "mimetype": "text/x-python",
   "name": "python",
   "nbconvert_exporter": "python",
   "pygments_lexer": "ipython3",
   "version": "3.11.5"
  }
 },
 "nbformat": 4,
 "nbformat_minor": 5
}
