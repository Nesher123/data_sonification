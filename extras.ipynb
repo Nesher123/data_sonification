{
 "cells": [
  {
   "cell_type": "markdown",
   "id": "40ed6471",
   "metadata": {},
   "source": [
    "# Extras\n",
    "* [Good or Bad?](https://www.youtube.com/watch?v=3-DVpITH8nU&ab_channel=skypescoop)\n",
    "* [Covid-19](https://soundcloud.com/user-275864738/viral-counterpoint-of-the-coronavirus-spike-protein-2019-ncov)\n",
    "* [Total Solar Eclipse Sonification w/Kronos Quartet | Exploratorium](https://www.youtube.com/watch?v=dqJMMQQ5QI8&ab_channel=Exploratorium)\n",
    "* [The Legend of Nixon - Presidential Approval Ratings as Video Game Soundscape](https://twotone.io/examples/legend-of-nixon/)\n",
    "* [Uh oh](https://www.youtube.com/shorts/0odFoaTR5yU)\n",
    "* [Static Noise](https://www.youtube.com/watch?v=wf2Ojwq4gYU&ab_channel=TheFowlOwl)\n",
    "* [Insights that can be gained from sonification](https://www.youtube.com/watch?v=bfWD1voJS_w&ab_channel=LightIT)\n",
    "\n",
    "### Phreaking\n",
    "\n",
    "The activity of a culture of people who study, experiment with, or explore telecommunication systems, such as equipment and systems connected to public telephone networks.\n",
    "\n",
    "The term first referred to groups who had reverse engineered the system of tones used to route long-distance calls. By re-creating the signaling tones, phreaks could switch calls from the phone handset while avoiding long-distance calling charges which were common then. These fees could be significant, depending on the time, duration and destination of the call. To ease the creation of the routing tones, electronic tone generators known as blue boxes became a staple of the phreaker community. This community included future Apple Inc. co-founders Steve Jobs and Steve Wozniak.\n",
    "\n",
    "# <a href=\"https://en.wikipedia.org/wiki/Blue_box#:~:text=At%20one%20point%20in%20the%201960s%2C%20packages%20of%20the%20Cap%27n%20Crunch%20breakfast%20cereal%20included%20a%20free%20gift%3A%20a%20small%20whistle%20that%2C%20by%20coincidence%2C%20generated%20a%202600%C2%A0Hz%20tone%20when%20one%20of%20the%20whistle%27s%20two%20holes%20was%20covered.%5B7%5D%20The%20phreaker%20John%20Draper%20adopted%20his%20nickname%20%22Captain%20Crunch%22%20from%20this%20whistle.%5B8%5D\" target=\"_blank\">\n",
    "#     <img src=\"img/whistle.jpg\" alt=\"Phreaking Whistle\">\n",
    "# </a>\n",
    "\n",
    "See:\n",
    "* [Blue Box](https://en.wikipedia.org/wiki/Blue_box)\n",
    "* [Badir 1](https://www.israelstory.org/he/episode/%D7%94%D7%90%D7%97%D7%99%D7%9D-%D7%91%D7%93%D7%99%D7%A8/)\n",
    "* [Badir 2](https://www.youtube.com/watch?v=CXerPpbqPE8&t=23s&ab_channel=arraba2020)"
   ]
  }
 ],
 "metadata": {
  "kernelspec": {
   "display_name": ".venv",
   "language": "python",
   "name": "python3"
  },
  "language_info": {
   "name": "python",
   "version": "3.11.5"
  }
 },
 "nbformat": 4,
 "nbformat_minor": 5
}
