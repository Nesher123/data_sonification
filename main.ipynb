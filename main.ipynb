{
 "cells": [
  {
   "cell_type": "markdown",
   "id": "ad4a0f64",
   "metadata": {},
   "source": [
    "# Data Sonification\n",
    "\n",
    "<img src=\"img/cover.png\">\n"
   ]
  },
  {
   "cell_type": "code",
   "execution_count": null,
   "id": "c701dd60",
   "metadata": {},
   "outputs": [],
   "source": [
    "# https://astronify.readthedocs.io/en/latest/index.html\n",
    "from astronify.series import SoniSeries\n",
    "from lightkurve import search_lightcurve\n",
    "import matplotlib.pyplot as plt"
   ]
  },
  {
   "cell_type": "code",
   "execution_count": null,
   "id": "fe27a8e0",
   "metadata": {},
   "outputs": [],
   "source": [
    "# Download a Kepler light curve for Kepler-12b using lightkurve\n",
    "# This is a light curve that shows Kepler 12b, a transiting exoplanet\n",
    "\n",
    "kep12b_lc = search_lightcurve(\n",
    "    \"KIC 11804465\", cadence=\"long\", quarter=1).download_all()[0].SAP_FLUX.to_table()\n",
    "f, ax = plt.subplots(figsize=(12, 6))\n",
    "ax.plot(kep12b_lc['time'].jd, kep12b_lc['flux'])\n",
    "ax.set_xlabel(\"Time (JD)\")\n",
    "ax.set_ylabel(\"Flux\")\n",
    "plt.show()"
   ]
  },
  {
   "cell_type": "markdown",
   "id": "b75c45ce",
   "metadata": {},
   "source": [
    "### ⚠️ Trigger Alert: This is NOT an alarm! <img src=\"img/pikud.png\">"
   ]
  },
  {
   "cell_type": "code",
   "execution_count": null,
   "id": "7cd9e3f6",
   "metadata": {},
   "outputs": [],
   "source": [
    "kep12b_obj = SoniSeries(kep12b_lc)\n",
    "kep12b_obj.sonify()\n",
    "kep12b_obj.play()"
   ]
  },
  {
   "cell_type": "code",
   "execution_count": null,
   "id": "b7113411",
   "metadata": {},
   "outputs": [],
   "source": [
    "# The playback will stop at the end, but we can also stop it early.\n",
    "kep12b_obj.stop()"
   ]
  },
  {
   "cell_type": "code",
   "execution_count": null,
   "id": "f9d394e0",
   "metadata": {},
   "outputs": [],
   "source": [
    "print(kep12b_obj.pitch_mapper.pitch_map_args)"
   ]
  },
  {
   "cell_type": "code",
   "execution_count": null,
   "id": "e4ddad71",
   "metadata": {},
   "outputs": [],
   "source": [
    "kep12b_obj.pitch_mapper.pitch_map_args[\"center_pitch\"] = 880\n",
    "\n",
    "kep12b_obj.sonify()\n",
    "kep12b_obj.play()"
   ]
  },
  {
   "cell_type": "code",
   "execution_count": null,
   "id": "c0a32017",
   "metadata": {},
   "outputs": [],
   "source": [
    "# kep12b_obj.stop()\n",
    "# Once the sonification sounds the way we like we can output the result to a wav file.\n",
    "# kep12b_obj.write(\"kepler_12b.wav\")"
   ]
  },
  {
   "cell_type": "code",
   "execution_count": null,
   "id": "72a3403c",
   "metadata": {},
   "outputs": [],
   "source": [
    "from astronify import simulator, series\n",
    "\n",
    "lc_data = simulator.simulated_lc(\n",
    "    \"flat\", lc_length=500, lc_noise=0.1, visualize=True, lc_yoffset=100.)\n",
    "soni_obj = series.SoniSeries(lc_data)"
   ]
  },
  {
   "cell_type": "code",
   "execution_count": null,
   "id": "c90d18c6",
   "metadata": {},
   "outputs": [],
   "source": [
    "soni_obj.sonify()\n",
    "soni_obj.play()"
   ]
  },
  {
   "cell_type": "code",
   "execution_count": null,
   "id": "07bf8e27",
   "metadata": {},
   "outputs": [],
   "source": [
    "lc_data = simulator.simulated_lc(\"flare\", visualize=True)\n",
    "soni_obj = series.SoniSeries(lc_data)"
   ]
  },
  {
   "cell_type": "code",
   "execution_count": null,
   "id": "5beb7b98",
   "metadata": {},
   "outputs": [],
   "source": [
    "soni_obj.sonify()\n",
    "soni_obj.play()"
   ]
  },
  {
   "cell_type": "code",
   "execution_count": null,
   "id": "8f78f80f",
   "metadata": {},
   "outputs": [],
   "source": [
    "# Now let’s make a sinusoidal signal and use some of the parameter options.\n",
    "# We will change the amplitude (how “big” the curve is from top to bottom),\n",
    "# and the period (how long it takes to make one full cycle from peak to bottom and back to peak again).\n",
    "# We’ll also add a little noise to the light curve, and ask for a light curve that lasts twice as long as the default.\n",
    "\n",
    "lc_data = simulator.simulated_lc(\n",
    "    \"sine\", visualize=True, sine_amp=5, sine_period=100, lc_noise=0, lc_length=1000)\n",
    "soni_obj = series.SoniSeries(lc_data)"
   ]
  },
  {
   "cell_type": "code",
   "execution_count": null,
   "id": "5b4b1f38",
   "metadata": {},
   "outputs": [],
   "source": [
    "soni_obj.sonify()\n",
    "soni_obj.play()"
   ]
  }
 ],
 "metadata": {
  "kernelspec": {
   "display_name": ".venv",
   "language": "python",
   "name": "python3"
  },
  "language_info": {
   "codemirror_mode": {
    "name": "ipython",
    "version": 3
   },
   "file_extension": ".py",
   "mimetype": "text/x-python",
   "name": "python",
   "nbconvert_exporter": "python",
   "pygments_lexer": "ipython3",
   "version": "3.11.5"
  }
 },
 "nbformat": 4,
 "nbformat_minor": 5
}
